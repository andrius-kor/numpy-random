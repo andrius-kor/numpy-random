{
 "cells": [
  {
   "cell_type": "markdown",
   "id": "7c449a7e-0678-429a-99fa-23481ac8d37e",
   "metadata": {},
   "source": [
    "# The Numpy Random package\n",
    "\n",
    "[Official documentaion](https://numpy.org/doc/stable/reference/random/index.html)\n",
    "\n",
    "***"
   ]
  },
  {
   "cell_type": "code",
   "execution_count": 1,
   "id": "14f9f995-1b9d-47c8-a1d9-833c214070e7",
   "metadata": {},
   "outputs": [],
   "source": [
    "# Efficient numerical arrays\n",
    "import numpy as np\n",
    "# Plotting\n",
    "import matplotlib.pyplot as plt"
   ]
  },
  {
   "cell_type": "code",
   "execution_count": 2,
   "id": "aab9a200-20dd-401c-a081-519a382511a9",
   "metadata": {},
   "outputs": [],
   "source": [
    "#Change default style sheet\n",
    "plt.style.use('ggplot')\n",
    "# Change the default figure size\n",
    "plt.rcParams['figure.figsize'] = [10, 5]"
   ]
  },
  {
   "cell_type": "markdown",
   "id": "f722166e-08c0-4853-a76a-c25e4a03b127",
   "metadata": {},
   "source": [
    "<br>\n",
    "\n",
    "## numpy.random.normal\n",
    "https://numpy.org/doc/stable/reference/random/generated/numpy.random.normal.html"
   ]
  },
  {
   "cell_type": "code",
   "execution_count": 3,
   "id": "f58dd1b9-f431-41e8-b281-ea1d042765a4",
   "metadata": {},
   "outputs": [],
   "source": [
    "mu, sigma = 0, 0.1 # mean and standard deviation\n",
    "s = np.random.normal(mu, sigma, 1000)"
   ]
  },
  {
   "cell_type": "code",
   "execution_count": 4,
   "id": "0175af04-eb74-4ae3-b95b-9e9c7b1ce3ff",
   "metadata": {},
   "outputs": [
    {
     "data": {
      "text/plain": [
       "array([ 0.07044556, -0.08681821, -0.02653906, -0.03957432,  0.10116701,\n",
       "       -0.1148825 ,  0.10121387, -0.01736856,  0.00989489,  0.03401455])"
      ]
     },
     "execution_count": 4,
     "metadata": {},
     "output_type": "execute_result"
    }
   ],
   "source": [
    "# Look at first ten items.\n",
    "s[:10]"
   ]
  },
  {
   "cell_type": "code",
   "execution_count": 5,
   "id": "ebcf6abd-34f7-4209-96f6-a90eae6f2506",
   "metadata": {},
   "outputs": [
    {
     "data": {
      "text/plain": [
       "0.004190874966418433"
      ]
     },
     "execution_count": 5,
     "metadata": {},
     "output_type": "execute_result"
    }
   ],
   "source": [
    "abs(mu - np.mean(s))"
   ]
  },
  {
   "cell_type": "code",
   "execution_count": 6,
   "id": "fd2124b1-580a-42c5-86f7-89916d0fe706",
   "metadata": {},
   "outputs": [
    {
     "data": {
      "text/plain": [
       "0.002952179155152654"
      ]
     },
     "execution_count": 6,
     "metadata": {},
     "output_type": "execute_result"
    }
   ],
   "source": [
    "abs(sigma - np.std(s, ddof=1))"
   ]
  },
  {
   "cell_type": "code",
   "execution_count": 7,
   "id": "1448fc44-0adf-4fba-aaed-f5fc058f6d94",
   "metadata": {},
   "outputs": [
    {
     "data": {
      "image/png": "[encoded data removed]",
      "text/plain": [
       "<Figure size 720x360 with 1 Axes>"
      ]
     },
     "metadata": {},
     "output_type": "display_data"
    }
   ],
   "source": [
    "count, bins, ignored = plt.hist(s, 30, density=True)\n",
    "f = 1/(sigma*np.sqrt(2 * np.pi)) * np.exp(-(bins - mu)**2/(2 * sigma**2) )\n",
    "plt.plot(bins, f, linewidth=2)\n",
    "plt.show()"
   ]
  },
  {
   "cell_type": "markdown",
   "id": "1a1b4b0c-1ec8-4a89-a78a-06415d8ab217",
   "metadata": {},
   "source": [
    "## References\n",
    "\n",
    "[1] https://www.datacamp.com/community/tutorials/numpy-random"
   ]
  },
  {
   "cell_type": "markdown",
   "id": "f8ba83cb-5999-4c98-807d-6b834d40bdf5",
   "metadata": {},
   "source": [
    "***\n",
    "\n",
    "## End"
   ]
  }
 ],
 "metadata": {
  "kernelspec": {
   "display_name": "Python 3",
   "language": "python",
   "name": "python3"
  },
  "language_info": {
   "codemirror_mode": {
    "name": "ipython",
    "version": 3
   },
   "file_extension": ".py",
   "mimetype": "text/x-python",
   "name": "python",
   "nbconvert_exporter": "python",
   "pygments_lexer": "ipython3",
   "version": "3.8.8"
  }
 },
 "nbformat": 4,
 "nbformat_minor": 5
}
